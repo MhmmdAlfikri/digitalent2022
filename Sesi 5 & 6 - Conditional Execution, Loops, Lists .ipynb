{
 "cells": [
  {
   "cell_type": "markdown",
   "metadata": {},
   "source": [
    "## Percabangan (Branching)\n",
    "\n",
    "Percabangan menyatakan bahwa setiap flow program dapat mempunyai alur yang bercabang. Maksudnya adalah akan ada kondisi tertentu yang mengharuskan user untuk memilih di jalur mana dia akan melangkah.\n",
    "\n",
    "Misalnya ada kondisi\n",
    "- Anda pergi ke kampus jika tidak hujan dan \n",
    "- Anda tidak pergi ke kampus jika hujan\n",
    "\n",
    "Statement ini dapat ditulis `Jika tidak hujan maka pergi ke kampus dan Jika hujan maka tidak pergi ke kampus`\n",
    "\n",
    "Ref : https://ngodingdata.com/memahami-percabangan-di-python/\n",
    "\n",
    "### Percabangan 1 kondisi\n",
    "Bentuk umum penggunaan perintah if untuk satu kasus dalam Python adalah :\n",
    "\n",
    "```python\n",
    "if kondisi:\n",
    "    statement\n",
    "    ...\n",
    "    ...\n",
    "    \n",
    "```"
   ]
  },
  {
   "cell_type": "code",
   "execution_count": 1,
   "metadata": {},
   "outputs": [
    {
     "name": "stdout",
     "output_type": "stream",
     "text": [
      "tidak pergi ke kampus\n"
     ]
    }
   ],
   "source": [
    "hujan = \"iya\"\n",
    "\n",
    "if hujan == \"iya\":\n",
    "    print(\"tidak pergi ke kampus\")"
   ]
  },
  {
   "cell_type": "code",
   "execution_count": 2,
   "metadata": {},
   "outputs": [
    {
     "name": "stdout",
     "output_type": "stream",
     "text": [
      "pergi ke kampus\n"
     ]
    }
   ],
   "source": [
    "hujan = True\n",
    "\n",
    "if hujan:\n",
    "    print(\"pergi ke kampus\")"
   ]
  },
  {
   "cell_type": "markdown",
   "metadata": {},
   "source": [
    "### Percabangan 2 kondisi\n",
    "\n",
    "```python\n",
    "if kondisi :\n",
    "    statement1\n",
    "    statement2\n",
    "    ...\n",
    "else \n",
    "    statement_alternatif1\n",
    "    statement_alternatif2\n",
    "    ...\n",
    "```\n"
   ]
  },
  {
   "cell_type": "code",
   "execution_count": 3,
   "metadata": {},
   "outputs": [
    {
     "name": "stdout",
     "output_type": "stream",
     "text": [
      "gak sempurna\n"
     ]
    }
   ],
   "source": [
    "ipk = \"C\"\n",
    "\n",
    "if ipk == \"A\":\n",
    "    print(\"sempurna\")\n",
    "else:\n",
    "    print(\"gak sempurna\")"
   ]
  },
  {
   "cell_type": "markdown",
   "metadata": {},
   "source": [
    "### Percabangan 2 kondisi atau lebih\n",
    "\n",
    "```python\n",
    "if kondisi1:\n",
    "    statement1\n",
    "    ...\n",
    "    ...\n",
    "elif kondisi2:\n",
    "    statement2\n",
    "    ...\n",
    "    ...\n",
    "else:\n",
    "    statement_terakhir\n",
    "    ...\n",
    "    ...\n",
    "```\n"
   ]
  },
  {
   "cell_type": "code",
   "execution_count": 4,
   "metadata": {},
   "outputs": [
    {
     "name": "stdout",
     "output_type": "stream",
     "text": [
      "cukup\n"
     ]
    }
   ],
   "source": [
    "ipk = \"C\"\n",
    "\n",
    "if ipk == \"A\":\n",
    "    print(\"sempurna\")\n",
    "elif ipk == \"B\":\n",
    "    print(\"bagus\")\n",
    "elif ipk == \"C\":\n",
    "    print(\"cukup\")\n",
    "elif ipk == \"D\":\n",
    "    print(\"kurang\")\n",
    "else:\n",
    "    print(\"parah\")"
   ]
  },
  {
   "cell_type": "markdown",
   "metadata": {},
   "source": [
    "## Lab\n",
    "\n",
    "- Ada 2 input user. `input 1` dan `input 2`\n",
    "- Ada pilihan : `jumlah`, `kurang`, `kali`, `bagi`\n",
    "- Cetak hasilnya `Hasil <pilihan> nilai <input1> dan <input2> adalah <hasil akhir>`\n",
    "\n",
    "\n",
    "Misal\n",
    "\n",
    "`input1 : 5`\n",
    "`input2 : 2`   \n",
    "`pilih = \"jumlah\"`\n",
    "\n",
    "`output : Hasil jumlah nilai 5 dan 2 adalah 7`"
   ]
  },
  {
   "cell_type": "code",
   "execution_count": 5,
   "metadata": {},
   "outputs": [
    {
     "name": "stdout",
     "output_type": "stream",
     "text": [
      "masukkan nilai 1 : 5\n",
      "masukkan nilai 2 : 2\n",
      "mamsukkan pilihan? jumlah/kurang/kali/bagijumlah\n",
      "Hasil jumlah nilai 5 dan 2 adalah 7\n"
     ]
    }
   ],
   "source": [
    "nilai1 = int(input(\"masukkan nilai 1 : \"))\n",
    "nilai2 = int(input(\"masukkan nilai 2 : \"))\n",
    "\n",
    "pilihan = input(\"mamsukkan pilihan? jumlah/kurang/kali/bagi\")\n",
    "\n",
    "if pilihan == \"jumlah\":\n",
    "    print(\"Hasil {} nilai {} dan {} adalah {}\".format(pilihan,nilai1, nilai2, (nilai1+nilai2)))\n",
    "elif pilihan == \"kurang\":\n",
    "    print(\"Hasil {} nilai {} dan {} adalah {}\".format(pilihan,nilai1, nilai2, (nilai1-nilai2)))\n",
    "elif pilihan == \"kali\":\n",
    "    print(\"Hasil {} nilai {} dan {} adalah {}\".format(pilihan,nilai1, nilai2, (nilai1*nilai2)))\n",
    "elif pilihan == \"bagi\":\n",
    "    print(\"Hasil {} nilai {} dan {} adalah {}\".format(pilihan,nilai1, nilai2, (nilai1/nilai2)))\n",
    "else:\n",
    "    print(\"Anda salah pilih!!\")"
   ]
  },
  {
   "cell_type": "code",
   "execution_count": null,
   "metadata": {},
   "outputs": [],
   "source": []
  },
  {
   "cell_type": "markdown",
   "metadata": {},
   "source": [
    "## Lab\n",
    "\n",
    "Buatlah program untuk menghitung index dari nilai akhir MK\n",
    "\n",
    "- jika nilai 81 sd 100 A\n",
    "- jika nilai 71 sd 80 AB\n",
    "- jika nilai 61 sd 70 B\n",
    "- jika nilai 51 sd 60 C\n",
    "- jika nilai 41 sd 50 D\n",
    "- jika nilai 0 sd 40 E\n",
    "- selain itu salah input"
   ]
  },
  {
   "cell_type": "markdown",
   "metadata": {},
   "source": [
    "### Lab\n",
    "\n",
    "Buatlah progam untuk menghitung pajak ppn. Jika anda member maka ppn hanya `5%` sedangkan jika bukan member ppn `10%` dari total harga"
   ]
  },
  {
   "cell_type": "code",
   "execution_count": 6,
   "metadata": {},
   "outputs": [
    {
     "name": "stdout",
     "output_type": "stream",
     "text": [
      "beli sikat gigi brapa biji?2\n",
      "beli sabun brapa biji?2\n",
      "beli sampoo brapa biji?1\n",
      "total tanpa ppn 5100\n",
      "ppn =  510.0\n",
      "total belanja + ppn =  5610.0\n",
      "sisanya =  4390.0\n"
     ]
    }
   ],
   "source": [
    "saldo = 10000\n",
    "member = False\n",
    "\n",
    "sikat_gigi = 1000\n",
    "sabun = 800\n",
    "sampoo = 1500\n",
    "\n",
    "jml_sikat = int(input(\"beli sikat gigi brapa biji?\"))\n",
    "jml_sabun = int(input(\"beli sabun brapa biji?\"))\n",
    "jml_sampoo = int(input(\"beli sampoo brapa biji?\"))\n",
    "\n",
    "total = (sikat_gigi*jml_sikat) + (sabun*jml_sabun) + (sampoo*jml_sampoo)\n",
    "\n",
    "if member:\n",
    "    ppn = 5/100  * total\n",
    "else:\n",
    "    ppn = 10/100  * total\n",
    "    \n",
    "total_belanja_dengan_ppn = total + ppn \n",
    "\n",
    "sisa = saldo - total_belanja_dengan_ppn\n",
    "\n",
    "print(\"total tanpa ppn\",total)\n",
    "print(\"ppn = \", ppn)\n",
    "print(\"total belanja + ppn = \", total_belanja_dengan_ppn)\n",
    "print(\"sisanya = \", sisa)"
   ]
  },
  {
   "cell_type": "code",
   "execution_count": 7,
   "metadata": {},
   "outputs": [
    {
     "name": "stdout",
     "output_type": "stream",
     "text": [
      "5100\n",
      "510.0\n",
      "5610.0\n",
      "4390.0\n"
     ]
    }
   ],
   "source": [
    "total = (2*1000 + 2*800 + 1*1500)\n",
    "ppn = 10/100 * total\n",
    "total_dengan_ppn = total + ppn\n",
    "sisa = saldo - total_belanja_dengan_ppn\n",
    "\n",
    "print(total)\n",
    "print(ppn)\n",
    "print(total_belanja_dengan_ppn)\n",
    "print(sisa)"
   ]
  },
  {
   "cell_type": "markdown",
   "metadata": {},
   "source": [
    "#### Kembangkan program dengan mengecek saldo jika total belanja+ppn lebih dari saldo tidak bisa dilakukan transaksi\n",
    "\n",
    "`end of lab`"
   ]
  },
  {
   "cell_type": "markdown",
   "metadata": {},
   "source": [
    "## Perulangan (Looping)\n",
    "\n",
    "- Perulangan digunakan untuk melakukan proses yang berulang-ulang\n",
    "- Perulangan biasanya juga disebut looping\n",
    "- Python menyediakan dua statement untuk melakukan proses perulangan yaitu for dan while\n",
    "\n",
    "Ref : https://ngodingdata.com/memahami-perulangan-di-python/"
   ]
  },
  {
   "cell_type": "markdown",
   "metadata": {},
   "source": [
    "### For\n",
    "\n",
    "- Perintah for biasanya digunakan untuk mengambil atau menelusuri data (item) yang terdapat pada tipe koleksi seperti string, list, tuple, dictionary dan set\n",
    "- For biasanya digunakan untuk perulangan yang sudah jelas kapan berhentinya\n",
    "\n",
    "Bentuk perintah for dapat dituliskan sebagai berikut : \n",
    "\n",
    "Statement for untuk perintah koleksi\n",
    "```python\n",
    "for indeks tipe koleksi:\n",
    "    statement1\n",
    "    statement2\n",
    "    ...\n",
    "```"
   ]
  },
  {
   "cell_type": "markdown",
   "metadata": {},
   "source": [
    "nama = [\"dani\", \"anton\", \"rani\"]\n",
    "\n",
    "for i in nama:\n",
    "        print(i)"
   ]
  },
  {
   "cell_type": "code",
   "execution_count": 8,
   "metadata": {},
   "outputs": [
    {
     "name": "stdout",
     "output_type": "stream",
     "text": [
      "selamat pagi dani\n",
      "selamat pagi anton\n",
      "selamat pagi rani\n"
     ]
    }
   ],
   "source": [
    "nama = [\"dani\", \"anton\", \"rani\"]\n",
    "\n",
    "for i in nama:\n",
    "        print(f\"selamat pagi {i}\")"
   ]
  },
  {
   "cell_type": "markdown",
   "metadata": {},
   "source": [
    "## Lab\n",
    "\n",
    "- Buatlah program untuk membuat list mahasiswa yang menampilkan seluruh namanya dalam benntuk kapital\n",
    "- Gunakan `for`"
   ]
  },
  {
   "cell_type": "code",
   "execution_count": 9,
   "metadata": {},
   "outputs": [
    {
     "name": "stdout",
     "output_type": "stream",
     "text": [
      "JOKO\n",
      "TONI\n",
      "RANI\n",
      "NINDI\n"
     ]
    }
   ],
   "source": [
    "mahasiswa = [\"joko\", \"toni\", \"rani\", \"nindi\"]\n",
    "\n",
    "for m in mahasiswa:\n",
    "    print(m.upper())"
   ]
  },
  {
   "cell_type": "markdown",
   "metadata": {},
   "source": [
    "## Lab\n",
    "\n",
    "Sapalah setiap mahasiswa dengan ucapan `selamat pagi {nama mahasiwa}`"
   ]
  },
  {
   "cell_type": "code",
   "execution_count": 10,
   "metadata": {},
   "outputs": [
    {
     "name": "stdout",
     "output_type": "stream",
     "text": [
      "selamat pagi joko\n",
      "selamat pagi toni\n",
      "selamat pagi rani\n",
      "selamat pagi nindi\n"
     ]
    }
   ],
   "source": [
    "for m in mahasiswa:\n",
    "    print(\"selamat pagi {}\".format(m))"
   ]
  },
  {
   "cell_type": "markdown",
   "metadata": {},
   "source": [
    "`end of lab`"
   ]
  },
  {
   "cell_type": "code",
   "execution_count": 11,
   "metadata": {},
   "outputs": [
    {
     "name": "stdout",
     "output_type": "stream",
     "text": [
      "0\n",
      "1\n",
      "2\n",
      "3\n",
      "4\n"
     ]
    }
   ],
   "source": [
    "for i in range(5):\n",
    "    print(i)"
   ]
  },
  {
   "cell_type": "code",
   "execution_count": 12,
   "metadata": {},
   "outputs": [
    {
     "name": "stdout",
     "output_type": "stream",
     "text": [
      "1\n",
      "2\n",
      "3\n",
      "4\n"
     ]
    }
   ],
   "source": [
    "for i in range(1,5):\n",
    "    print(i)"
   ]
  },
  {
   "cell_type": "markdown",
   "metadata": {},
   "source": [
    "## Lab\n",
    "\n",
    "Cetak nilai genap dari range 1 - 10"
   ]
  },
  {
   "cell_type": "code",
   "execution_count": 13,
   "metadata": {},
   "outputs": [
    {
     "name": "stdout",
     "output_type": "stream",
     "text": [
      "2\n",
      "4\n",
      "6\n",
      "8\n",
      "10\n"
     ]
    }
   ],
   "source": [
    "for i in range(1,11):\n",
    "    if i % 2 == 0:\n",
    "        print(i)"
   ]
  },
  {
   "cell_type": "markdown",
   "metadata": {},
   "source": [
    "### Continue and Break\n",
    "\n",
    "- `continue` memungkinkan  untuk menghentikan iterasi saat ini dari for loop dan melompat ke yang berikutnya\n",
    "- `break` untuk keluar dari perulangan"
   ]
  },
  {
   "cell_type": "code",
   "execution_count": 14,
   "metadata": {},
   "outputs": [
    {
     "name": "stdout",
     "output_type": "stream",
     "text": [
      "2\n",
      "4\n",
      "6\n",
      "8\n",
      "10\n"
     ]
    }
   ],
   "source": [
    "for i in range(1,11):\n",
    "    if i % 2 != 0:\n",
    "        continue\n",
    "    print(i)"
   ]
  },
  {
   "cell_type": "code",
   "execution_count": 15,
   "metadata": {},
   "outputs": [
    {
     "name": "stdout",
     "output_type": "stream",
     "text": [
      "0\n",
      "1\n",
      "2\n",
      "3\n",
      "4\n",
      "5\n",
      "keluar dari loop\n"
     ]
    }
   ],
   "source": [
    "for i in range(10):\n",
    "    print(i)\n",
    "    \n",
    "    if i == 5:\n",
    "        print(\"keluar dari loop\")\n",
    "        break"
   ]
  },
  {
   "cell_type": "markdown",
   "metadata": {},
   "source": [
    "## Lab\n",
    "\n",
    "- Buatlah program yang berisi list hewan gajah, kucing, harimau, kerbau\n",
    "- cek jika ada kerbau di list maka cetak hewan2 yang berada sebelum kerbau dan tutup perulangan"
   ]
  },
  {
   "cell_type": "code",
   "execution_count": 16,
   "metadata": {},
   "outputs": [
    {
     "name": "stdout",
     "output_type": "stream",
     "text": [
      "gajah\n",
      "kucing\n",
      "harimau\n"
     ]
    }
   ],
   "source": [
    "# operator perbandingan\n",
    "hewan = [\"gajah\", \"kucing\", \"harimau\", \"kerbau\"]\n",
    "\n",
    "for h in hewan:\n",
    "    if h == \"kerbau\":\n",
    "        break\n",
    "    print(h)\n",
    "        "
   ]
  },
  {
   "cell_type": "markdown",
   "metadata": {},
   "source": [
    "## List Comprehension\n",
    "\n",
    "Membuat list lebih singkat dengan bantuan `for`"
   ]
  },
  {
   "cell_type": "code",
   "execution_count": 17,
   "metadata": {},
   "outputs": [
    {
     "name": "stdout",
     "output_type": "stream",
     "text": [
      "[0, 1, 4, 9, 16]\n"
     ]
    }
   ],
   "source": [
    "nilai = []\n",
    "\n",
    "for i in range(5):\n",
    "    nilai.append(i*i)\n",
    "    \n",
    "print(nilai)"
   ]
  },
  {
   "cell_type": "code",
   "execution_count": 18,
   "metadata": {},
   "outputs": [
    {
     "data": {
      "text/plain": [
       "[0, 1, 4, 9, 16]"
      ]
     },
     "execution_count": 18,
     "metadata": {},
     "output_type": "execute_result"
    }
   ],
   "source": [
    "nilai = [i*i for i in range(5)]\n",
    "nilai"
   ]
  },
  {
   "cell_type": "code",
   "execution_count": 19,
   "metadata": {},
   "outputs": [
    {
     "name": "stdout",
     "output_type": "stream",
     "text": [
      "[4, 2, 4, 6]\n"
     ]
    }
   ],
   "source": [
    "# menggunakan if jika angkanya adalah genap\n",
    "nilai = [1,3,4,3,2,4,5,6]\n",
    "\n",
    "genap = [n for n in nilai if n % 2 == 0]\n",
    "print(genap)"
   ]
  },
  {
   "cell_type": "markdown",
   "metadata": {},
   "source": [
    "## Lab\n",
    "\n",
    "- Buat program untuk cek apakah ada hewan yang punya huruf `a`\n",
    "- Simpan hewan2 yang berhuruf `a` ke dalam list yang lain"
   ]
  },
  {
   "cell_type": "code",
   "execution_count": 20,
   "metadata": {},
   "outputs": [
    {
     "name": "stdout",
     "output_type": "stream",
     "text": [
      "['gajah', 'harimau', 'kerbau']\n"
     ]
    }
   ],
   "source": [
    "hewan = [\"gajah\", \"kucing\", \"harimau\", \"kerbau\"]\n",
    "\n",
    "hewan_a = [h for h in hewan if \"a\" in h]\n",
    "print(hewan_a)"
   ]
  },
  {
   "cell_type": "markdown",
   "metadata": {},
   "source": [
    "### While\n",
    "- while juga bisa digunakan untuk perulangan seperti for untuk perulangan yang pasti.\n",
    "- while juga digunakan untuk perulangan yang belum jelas seberapa banyak perulangan akan dilakukan."
   ]
  },
  {
   "cell_type": "code",
   "execution_count": 21,
   "metadata": {},
   "outputs": [
    {
     "name": "stdout",
     "output_type": "stream",
     "text": [
      "0\n",
      "1\n",
      "2\n",
      "3\n",
      "4\n"
     ]
    }
   ],
   "source": [
    "i = 0\n",
    "\n",
    "while i < 5:\n",
    "        print(i)\n",
    "        i += 1"
   ]
  },
  {
   "cell_type": "code",
   "execution_count": 22,
   "metadata": {},
   "outputs": [
    {
     "name": "stdout",
     "output_type": "stream",
     "text": [
      "pilih mulai/berhenti? mulai\n",
      "pilih mulai/berhenti? mulai\n",
      "pilih mulai/berhenti? berhenti\n",
      "looping berhenti\n"
     ]
    }
   ],
   "source": [
    "kode = \"mulai\"\n",
    "\n",
    "while kode == \"mulai\":\n",
    "        nilai = input(\"pilih mulai/berhenti? \")\n",
    "\n",
    "        if nilai == \"berhenti\":\n",
    "                print(\"looping berhenti\")\n",
    "                break;"
   ]
  },
  {
   "cell_type": "code",
   "execution_count": 23,
   "metadata": {},
   "outputs": [
    {
     "name": "stdout",
     "output_type": "stream",
     "text": [
      "pilih mulai/berhenti?mulai\n",
      "pilih mulai/berhenti?mulai\n",
      "pilih mulai/berhenti?berhenti\n",
      "looping berhenti\n"
     ]
    }
   ],
   "source": [
    "mulai = True\n",
    "\n",
    "while mulai:\n",
    "    nilai = input(\"pilih mulai/berhenti?\")\n",
    "    \n",
    "    if nilai == \"berhenti\":\n",
    "        mulai = False\n",
    "        print(\"looping berhenti\")\n",
    "        break"
   ]
  },
  {
   "cell_type": "markdown",
   "metadata": {},
   "source": [
    "## Lab\n",
    "\n",
    "Buatlah program konversi suhu celcius ke farenheit dan program akan bertanya apakah konversi diulang kembali atau berhenti"
   ]
  },
  {
   "cell_type": "code",
   "execution_count": 24,
   "metadata": {},
   "outputs": [
    {
     "name": "stdout",
     "output_type": "stream",
     "text": [
      "masukkan suhu dalam satuan celcius10\n",
      "suhu 10 celcius adalah sama dengan 50.0 farenheit\n",
      "pilih mulai/berhenti?mulai\n",
      "masukkan suhu dalam satuan celcius30\n",
      "suhu 30 celcius adalah sama dengan 86.0 farenheit\n",
      "pilih mulai/berhenti?berhenti\n",
      "looping berhenti\n"
     ]
    }
   ],
   "source": [
    "mulai = True\n",
    "\n",
    "while mulai:\n",
    "    celcius = int(input(\"masukkan suhu dalam satuan celcius\"))\n",
    "    farenheit = (celcius * 9/5) + 32\n",
    "    \n",
    "    print(f\"suhu {celcius} celcius adalah sama dengan {farenheit} farenheit\")\n",
    "    \n",
    "    nilai = input(\"pilih mulai/berhenti?\")\n",
    "    \n",
    "    if nilai == \"berhenti\":\n",
    "        mulai = False\n",
    "        print(\"looping berhenti\")\n",
    "        break"
   ]
  },
  {
   "cell_type": "markdown",
   "metadata": {},
   "source": [
    "#### Kembangkan program dengan menambahkan `if statement` untuk pilihan konversi `celcius -> farenheit`, `celcius -> kelvin`\n",
    "\n",
    "`end of lab`"
   ]
  },
  {
   "cell_type": "markdown",
   "metadata": {},
   "source": [
    "## Lab\n",
    "\n",
    "- Buatlah list kosong\n",
    "- input data mahasiswa dan tanya apakah ingin lanjut input atau tidak\n",
    "- lakukan hal ini secara terus menerus\n",
    "- cetak hasil listnya"
   ]
  },
  {
   "cell_type": "code",
   "execution_count": null,
   "metadata": {},
   "outputs": [],
   "source": []
  },
  {
   "cell_type": "markdown",
   "metadata": {},
   "source": [
    "## Lab Akhir\n",
    "\n",
    "Buat program untuk dua transaksi \n",
    "1. top up saldo\n",
    "2. belaja\n",
    "\n",
    "<br />\n",
    "- jika 1 transaksi sudah dijalankan tanyakan kembali apakah ingin melakukan transaksi lagi atau selesai<br />\n",
    "- Jika ingin melakukan transaksi kembali ke pilihan `top-up` atau `belanja`\n",
    "\n",
    "### aturan sederhana belanja:\n",
    "\n",
    "saldo = input user\n",
    "\n",
    "harga sikat gigi @1000; \n",
    "harga sabun @800;\n",
    "harga sampoo @1500\n",
    "\n",
    "pengeluaran dengan input user\n",
    "- item sikat gigi =  n item\n",
    "- item sabun = n item\n",
    "- sampoo = n item\n",
    "\n",
    "\n",
    "\n",
    "Tambahkan Kondisi\n",
    "- 1. Ada PPN dari pengeluaran.. Jika member PPN 5%, jika tidak member PPN 10%\n",
    "- 2. Jika saldo tidak cukup maka beri notif `saldo anda <> sedangkan belanja anda adalah <>`\n",
    "\n",
    "output jika saldo cukup\n",
    "- print(total belanja)\n",
    "- print(ppn)\n",
    "- print(total_belanja_dengan_ppn)\n",
    "- print(sisa)"
   ]
  },
  {
   "cell_type": "code",
   "execution_count": null,
   "metadata": {},
   "outputs": [],
   "source": []
  },
  {
   "cell_type": "markdown",
   "metadata": {},
   "source": [
    "## LIST\n",
    "\n",
    "Materi `List` diajarkan sebelum perulangan\n",
    "\n",
    "- List adalah struktur data yang menyimpan kumpulan item\n",
    "- Item dapat berupa bilangan integer, float, string atau boolean\n",
    "- Item di dalam list terurut \n",
    "- Nilainya dapat berubah atau lebih dikenal dengan istilah mutable\n",
    "- Cara mendefinisikan List adalah dengan square brackets ( [ ] )\n",
    "\n",
    "\n",
    "Ref : https://ngodingdata.com/struktur-list-di-python/"
   ]
  },
  {
   "cell_type": "code",
   "execution_count": 25,
   "metadata": {},
   "outputs": [],
   "source": [
    "variabel_list = [1,\"hello\", True]"
   ]
  },
  {
   "cell_type": "markdown",
   "metadata": {},
   "source": [
    "- Indek ke-0 adalah 1 tipe data integer\n",
    "- Indek ke-1 adalah \"hello\" tipe data string\n",
    "- Indek ke-2 adalah True tipe data boolean"
   ]
  },
  {
   "cell_type": "code",
   "execution_count": 26,
   "metadata": {},
   "outputs": [
    {
     "name": "stdout",
     "output_type": "stream",
     "text": [
      "['roni', 'joko', 'andi']\n"
     ]
    }
   ],
   "source": [
    "mahasiswa = [\"roni\", \"joko\", \"andi\"]\n",
    "\n",
    "print(mahasiswa)"
   ]
  },
  {
   "cell_type": "code",
   "execution_count": 27,
   "metadata": {},
   "outputs": [
    {
     "name": "stdout",
     "output_type": "stream",
     "text": [
      "roni\n",
      "joko\n",
      "andi\n"
     ]
    }
   ],
   "source": [
    "for i in mahasiswa:\n",
    "    print(i)"
   ]
  },
  {
   "cell_type": "code",
   "execution_count": 28,
   "metadata": {},
   "outputs": [
    {
     "name": "stdout",
     "output_type": "stream",
     "text": [
      "ani tidak mahasiswa\n"
     ]
    }
   ],
   "source": [
    "# kombinasi dengan branching\n",
    "if \"ani\" in mahasiswa:\n",
    "    print(\"ani adalah mahasiswa\")\n",
    "else:\n",
    "    print(\"ani tidak mahasiswa\")"
   ]
  },
  {
   "cell_type": "markdown",
   "metadata": {},
   "source": [
    "Operasi-operasi `List` bisa dipahamai di https://ngodingdata.com/struktur-list-di-python/"
   ]
  },
  {
   "cell_type": "code",
   "execution_count": 29,
   "metadata": {},
   "outputs": [
    {
     "name": "stdout",
     "output_type": "stream",
     "text": [
      "['anton', 'joko', 'indah', 'sinta']\n"
     ]
    }
   ],
   "source": [
    "## Operasi Append\n",
    "\n",
    "rekening = [\"anton\",\"joko\"]\n",
    "\n",
    "rekening.append(\"indah\")\n",
    "rekening.append(\"sinta\")\n",
    "\n",
    "print(rekening)"
   ]
  },
  {
   "cell_type": "code",
   "execution_count": 30,
   "metadata": {},
   "outputs": [
    {
     "name": "stdout",
     "output_type": "stream",
     "text": [
      "anton\n",
      "joko\n"
     ]
    }
   ],
   "source": [
    "print(rekening[0])\n",
    "print(rekening[1])"
   ]
  }
 ],
 "metadata": {
  "kernelspec": {
   "display_name": "Python 3",
   "language": "python",
   "name": "python3"
  },
  "language_info": {
   "codemirror_mode": {
    "name": "ipython",
    "version": 3
   },
   "file_extension": ".py",
   "mimetype": "text/x-python",
   "name": "python",
   "nbconvert_exporter": "python",
   "pygments_lexer": "ipython3",
   "version": "3.8.3"
  }
 },
 "nbformat": 4,
 "nbformat_minor": 4
}
