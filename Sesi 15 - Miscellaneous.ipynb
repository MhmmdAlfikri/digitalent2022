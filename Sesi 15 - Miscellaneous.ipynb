{
 "cells": [
  {
   "cell_type": "code",
   "execution_count": 1,
   "metadata": {
    "id": "0CNDjImS7nFZ"
   },
   "outputs": [],
   "source": [
    "# lambda, map, filter, date, file, json, os, exception"
   ]
  },
  {
   "cell_type": "markdown",
   "metadata": {
    "id": "tREBDNZW5gcm"
   },
   "source": [
    "## Ekspresi Lambda\n",
    "\n",
    "Lambda is one-line methods without a name"
   ]
  },
  {
   "cell_type": "code",
   "execution_count": 2,
   "metadata": {
    "colab": {
     "base_uri": "https://localhost:8080/"
    },
    "executionInfo": {
     "elapsed": 13,
     "status": "ok",
     "timestamp": 1628160038117,
     "user": {
      "displayName": "FAQIH HAMAMI",
      "photoUrl": "",
      "userId": "12373015352648283402"
     },
     "user_tz": -420
    },
    "id": "5lFeTReD5kJb",
    "outputId": "8820718d-04ef-4fb4-885d-c715a372d6dc"
   },
   "outputs": [
    {
     "data": {
      "text/plain": [
       "5"
      ]
     },
     "execution_count": 2,
     "metadata": {},
     "output_type": "execute_result"
    }
   ],
   "source": [
    "def tambah(a,b):\n",
    "  return a+b\n",
    "\n",
    "tambah(2,3)"
   ]
  },
  {
   "cell_type": "code",
   "execution_count": 3,
   "metadata": {
    "colab": {
     "base_uri": "https://localhost:8080/"
    },
    "executionInfo": {
     "elapsed": 511,
     "status": "ok",
     "timestamp": 1628160101230,
     "user": {
      "displayName": "FAQIH HAMAMI",
      "photoUrl": "",
      "userId": "12373015352648283402"
     },
     "user_tz": -420
    },
    "id": "xcLhArch5kGz",
    "outputId": "2cd7e731-1dfd-4564-dbf8-d540d07babd7"
   },
   "outputs": [
    {
     "data": {
      "text/plain": [
       "5"
      ]
     },
     "execution_count": 3,
     "metadata": {},
     "output_type": "execute_result"
    }
   ],
   "source": [
    "# menggunakan lambda untuk penjumlahan\n",
    "tambah = lambda a,b : a+b\n",
    "tambah(2,3)"
   ]
  },
  {
   "cell_type": "markdown",
   "metadata": {},
   "source": [
    "## Lab\n",
    "\n",
    "Menghitung perpangkatan dengan lambda"
   ]
  },
  {
   "cell_type": "code",
   "execution_count": 4,
   "metadata": {},
   "outputs": [
    {
     "name": "stdout",
     "output_type": "stream",
     "text": [
      "9\n"
     ]
    }
   ],
   "source": [
    "pangkat = lambda a: a**2\n",
    "print(pangkat(3))"
   ]
  },
  {
   "cell_type": "markdown",
   "metadata": {},
   "source": [
    "## Lab\n",
    "\n",
    "Menghitung konversi suhu celcius ke farenheit dengan lambda"
   ]
  },
  {
   "cell_type": "code",
   "execution_count": 5,
   "metadata": {},
   "outputs": [
    {
     "name": "stdout",
     "output_type": "stream",
     "text": [
      "50.0\n"
     ]
    }
   ],
   "source": [
    "suhu = lambda c: c * 9/5 + 32 \n",
    "print(suhu(10))"
   ]
  },
  {
   "cell_type": "markdown",
   "metadata": {},
   "source": [
    "# Functional programming\n",
    "\n",
    "- `map() filter()`\n",
    "- Ref : https://stackabuse.com/map-filter-and-reduce-in-python-with-examples/"
   ]
  },
  {
   "cell_type": "markdown",
   "metadata": {
    "id": "0aNq2tvi8n3y"
   },
   "source": [
    "## Map\n",
    "\n",
    "- The `map()` function iterates through all items in the given iterable and executes the function we passed as an argument on each of them\n",
    "- `map(function, iterable(s))\n",
    "- output `boolean`"
   ]
  },
  {
   "cell_type": "code",
   "execution_count": 6,
   "metadata": {
    "colab": {
     "base_uri": "https://localhost:8080/"
    },
    "executionInfo": {
     "elapsed": 407,
     "status": "ok",
     "timestamp": 1628160624107,
     "user": {
      "displayName": "FAQIH HAMAMI",
      "photoUrl": "",
      "userId": "12373015352648283402"
     },
     "user_tz": -420
    },
    "id": "YT8jXb-n5kBY",
    "outputId": "b74fb641-3a08-45b7-870c-1d524575b2e8"
   },
   "outputs": [
    {
     "name": "stdout",
     "output_type": "stream",
     "text": [
      "[True, False, False, True, False]\n"
     ]
    }
   ],
   "source": [
    "# map() Without using lambdas\n",
    "def starts_with_A(s):\n",
    "    return s[0] == \"A\"\n",
    "\n",
    "fruit = [\"Apple\", \"Banana\", \"Pear\", \"Apricot\", \"Orange\"]\n",
    "map_object = map(starts_with_A, fruit)\n",
    "\n",
    "print(list(map_object))"
   ]
  },
  {
   "cell_type": "code",
   "execution_count": 7,
   "metadata": {
    "colab": {
     "base_uri": "https://localhost:8080/"
    },
    "executionInfo": {
     "elapsed": 8,
     "status": "ok",
     "timestamp": 1628160624617,
     "user": {
      "displayName": "FAQIH HAMAMI",
      "photoUrl": "",
      "userId": "12373015352648283402"
     },
     "user_tz": -420
    },
    "id": "BdMmHNTX5j54",
    "outputId": "6fbd7771-6694-45a8-c81c-9c301716bb75"
   },
   "outputs": [
    {
     "name": "stdout",
     "output_type": "stream",
     "text": [
      "[True, False, False, True, False]\n"
     ]
    }
   ],
   "source": [
    "# using lambda\n",
    "\n",
    "fruit = [\"Apple\", \"Banana\", \"Pear\", \"Apricot\", \"Orange\"]\n",
    "map_object = map(lambda s: s[0] == 'A', fruit)\n",
    "print(list(map_object))"
   ]
  },
  {
   "cell_type": "code",
   "execution_count": 8,
   "metadata": {
    "colab": {
     "base_uri": "https://localhost:8080/"
    },
    "executionInfo": {
     "elapsed": 375,
     "status": "ok",
     "timestamp": 1628160730195,
     "user": {
      "displayName": "FAQIH HAMAMI",
      "photoUrl": "",
      "userId": "12373015352648283402"
     },
     "user_tz": -420
    },
    "id": "Yh9q03Ti7QR3",
    "outputId": "a5ca74e4-46ec-49fd-9dc4-a30499bc2c20"
   },
   "outputs": [
    {
     "data": {
      "text/plain": [
       "[True, False, False, True, False]"
      ]
     },
     "execution_count": 8,
     "metadata": {},
     "output_type": "execute_result"
    }
   ],
   "source": [
    "# atau masukkan langsung ke list\n",
    "result = list(map(lambda s:s[0] == 'A', fruit))\n",
    "result"
   ]
  },
  {
   "cell_type": "markdown",
   "metadata": {},
   "source": [
    "### Lab\n",
    "\n",
    "Cek deret `1 2 3 .. 10` apakah habis dibagi 2"
   ]
  },
  {
   "cell_type": "code",
   "execution_count": 9,
   "metadata": {},
   "outputs": [
    {
     "data": {
      "text/plain": [
       "[False, True, False, True, False, True, False, True, False, True]"
      ]
     },
     "execution_count": 9,
     "metadata": {},
     "output_type": "execute_result"
    }
   ],
   "source": [
    "result = list(map(lambda i: i % 2 == 0, range(1,11)))\n",
    "result"
   ]
  },
  {
   "cell_type": "markdown",
   "metadata": {},
   "source": [
    "`end of lab`"
   ]
  },
  {
   "cell_type": "markdown",
   "metadata": {},
   "source": [
    "## Filter\n",
    "\n",
    "- filter() takes a function object and an iterable and creates a new list.\n",
    "- `filter(function, iterable(s))`"
   ]
  },
  {
   "cell_type": "code",
   "execution_count": 10,
   "metadata": {
    "colab": {
     "base_uri": "https://localhost:8080/"
    },
    "executionInfo": {
     "elapsed": 418,
     "status": "ok",
     "timestamp": 1628160856145,
     "user": {
      "displayName": "FAQIH HAMAMI",
      "photoUrl": "",
      "userId": "12373015352648283402"
     },
     "user_tz": -420
    },
    "id": "WGL44kYb7QJY",
    "outputId": "d2d9b279-93a9-4bcd-ccb5-1e6a94480995"
   },
   "outputs": [
    {
     "name": "stdout",
     "output_type": "stream",
     "text": [
      "['Apple', 'Apricot']\n"
     ]
    }
   ],
   "source": [
    "# Without using lambdas\n",
    "def starts_with_A(s):\n",
    "    return s[0] == \"A\"\n",
    "\n",
    "fruit = [\"Apple\", \"Banana\", \"Pear\", \"Apricot\", \"Orange\"]\n",
    "filter_object = filter(starts_with_A, fruit)\n",
    "\n",
    "print(list(filter_object))"
   ]
  },
  {
   "cell_type": "code",
   "execution_count": 11,
   "metadata": {
    "colab": {
     "base_uri": "https://localhost:8080/"
    },
    "executionInfo": {
     "elapsed": 347,
     "status": "ok",
     "timestamp": 1628160882248,
     "user": {
      "displayName": "FAQIH HAMAMI",
      "photoUrl": "",
      "userId": "12373015352648283402"
     },
     "user_tz": -420
    },
    "id": "pu5RMwao80OU",
    "outputId": "808470bd-836d-4212-9fd5-8cb4606b9232"
   },
   "outputs": [
    {
     "data": {
      "text/plain": [
       "['Apple', 'Apricot']"
      ]
     },
     "execution_count": 11,
     "metadata": {},
     "output_type": "execute_result"
    }
   ],
   "source": [
    "# atau masukkan langsung ke list\n",
    "result = list(filter(lambda s:s[0] == 'A', fruit))\n",
    "result"
   ]
  },
  {
   "cell_type": "markdown",
   "metadata": {},
   "source": [
    "### Lab\n",
    "\n",
    "Cek deret `1 2 3 .. 10` apakah habis dibagi 2 dan simpan di list"
   ]
  },
  {
   "cell_type": "code",
   "execution_count": 12,
   "metadata": {},
   "outputs": [
    {
     "data": {
      "text/plain": [
       "[2, 4, 6, 8, 10]"
      ]
     },
     "execution_count": 12,
     "metadata": {},
     "output_type": "execute_result"
    }
   ],
   "source": [
    "result = list(filter(lambda i: i % 2 == 0, range(1,11)))\n",
    "result"
   ]
  },
  {
   "cell_type": "markdown",
   "metadata": {},
   "source": [
    "### Lab\n",
    "\n",
    "- Cek list `[\"2\",\"3\",\"tono\"]` apakah angka numerik\n",
    "- Gunakan `map() dan filter()`"
   ]
  },
  {
   "cell_type": "code",
   "execution_count": 13,
   "metadata": {},
   "outputs": [
    {
     "data": {
      "text/plain": [
       "[True, True, False]"
      ]
     },
     "execution_count": 13,
     "metadata": {},
     "output_type": "execute_result"
    }
   ],
   "source": [
    "listA = [\"2\",\"3\",\"tono\"]\n",
    "result = list(map(lambda i: i.isnumeric() == True, listA))\n",
    "result"
   ]
  },
  {
   "cell_type": "code",
   "execution_count": 14,
   "metadata": {},
   "outputs": [
    {
     "data": {
      "text/plain": [
       "['2', '3']"
      ]
     },
     "execution_count": 14,
     "metadata": {},
     "output_type": "execute_result"
    }
   ],
   "source": [
    "listA = [\"2\",\"3\",\"tono\"]\n",
    "result = list(filter(lambda i: i.isnumeric() == True, listA))\n",
    "result"
   ]
  },
  {
   "cell_type": "markdown",
   "metadata": {
    "id": "6fa38Gkb9Xsg"
   },
   "source": [
    "## Date"
   ]
  },
  {
   "cell_type": "code",
   "execution_count": 15,
   "metadata": {
    "id": "oNwmFQSZ80JS"
   },
   "outputs": [],
   "source": [
    "from datetime import date\n",
    "\n",
    "today = date.today()"
   ]
  },
  {
   "cell_type": "code",
   "execution_count": 16,
   "metadata": {
    "colab": {
     "base_uri": "https://localhost:8080/"
    },
    "executionInfo": {
     "elapsed": 413,
     "status": "ok",
     "timestamp": 1628161115622,
     "user": {
      "displayName": "FAQIH HAMAMI",
      "photoUrl": "",
      "userId": "12373015352648283402"
     },
     "user_tz": -420
    },
    "id": "PwTZds8s80F_",
    "outputId": "83261725-5afb-4c97-d90d-a66b33e41709"
   },
   "outputs": [
    {
     "name": "stdout",
     "output_type": "stream",
     "text": [
      "2022-07-30\n",
      "30\n",
      "5\n",
      "7\n",
      "2022\n"
     ]
    }
   ],
   "source": [
    "print(today)\n",
    "print(today.day)\n",
    "print(today.weekday())\n",
    "print(today.month)\n",
    "print(today.year)"
   ]
  },
  {
   "cell_type": "code",
   "execution_count": 17,
   "metadata": {
    "colab": {
     "base_uri": "https://localhost:8080/"
    },
    "executionInfo": {
     "elapsed": 415,
     "status": "ok",
     "timestamp": 1628161159552,
     "user": {
      "displayName": "FAQIH HAMAMI",
      "photoUrl": "",
      "userId": "12373015352648283402"
     },
     "user_tz": -420
    },
    "id": "LIqPVfC180D0",
    "outputId": "b271d377-8c30-470d-f26f-aa9251dd716b"
   },
   "outputs": [
    {
     "name": "stdout",
     "output_type": "stream",
     "text": [
      "30\n",
      "7\n",
      "2022\n",
      "11\n",
      "9\n",
      "35\n",
      "2022-07-30 11:09:35.862136\n"
     ]
    }
   ],
   "source": [
    "from datetime import datetime\n",
    "\n",
    "sekarang = datetime.now()\n",
    "print(sekarang.day)\n",
    "print(sekarang.month)\n",
    "print(sekarang.year)\n",
    "\n",
    "print(sekarang.hour)\n",
    "print(sekarang.minute)\n",
    "print(sekarang.second)\n",
    "\n",
    "print(sekarang.today())"
   ]
  },
  {
   "cell_type": "code",
   "execution_count": 18,
   "metadata": {
    "colab": {
     "base_uri": "https://localhost:8080/"
    },
    "executionInfo": {
     "elapsed": 338,
     "status": "ok",
     "timestamp": 1628161191528,
     "user": {
      "displayName": "FAQIH HAMAMI",
      "photoUrl": "",
      "userId": "12373015352648283402"
     },
     "user_tz": -420
    },
    "id": "LsyorbY180A-",
    "outputId": "ba8cc0c5-993d-456a-e3ee-63745670e6ad"
   },
   "outputs": [
    {
     "name": "stdout",
     "output_type": "stream",
     "text": [
      "2022-07-30 11:09:35\n"
     ]
    }
   ],
   "source": [
    "print(sekarang.strftime(\"%Y-%m-%d %H:%M:%S\"))"
   ]
  },
  {
   "cell_type": "code",
   "execution_count": 19,
   "metadata": {
    "colab": {
     "base_uri": "https://localhost:8080/"
    },
    "executionInfo": {
     "elapsed": 413,
     "status": "ok",
     "timestamp": 1628161208807,
     "user": {
      "displayName": "FAQIH HAMAMI",
      "photoUrl": "",
      "userId": "12373015352648283402"
     },
     "user_tz": -420
    },
    "id": "bp32CO9L8z-C",
    "outputId": "c4af09db-6c61-4a6b-8940-7454b930cc2d"
   },
   "outputs": [
    {
     "name": "stdout",
     "output_type": "stream",
     "text": [
      "2020-08-15 10:20:30\n"
     ]
    }
   ],
   "source": [
    "# formatting\n",
    "x = datetime(2020, 8, 15, 10, 20, 30)\n",
    "print(x.strftime(\"%Y-%m-%d %H:%M:%S\"))"
   ]
  },
  {
   "cell_type": "markdown",
   "metadata": {},
   "source": [
    "### Lab\n",
    "\n",
    "- Generate real time date dan angka random sebanyak 10x\n",
    "- gunakan `time.sleep()` untuk berhenti per 2 detik"
   ]
  },
  {
   "cell_type": "code",
   "execution_count": 20,
   "metadata": {},
   "outputs": [
    {
     "name": "stdout",
     "output_type": "stream",
     "text": [
      "date -> 2022-07-30 11:09:37.640618, random -> 9\n",
      "date -> 2022-07-30 11:09:39.653326, random -> 9\n",
      "date -> 2022-07-30 11:09:41.660895, random -> 1\n",
      "date -> 2022-07-30 11:09:43.666147, random -> 7\n",
      "date -> 2022-07-30 11:09:45.682267, random -> 8\n",
      "date -> 2022-07-30 11:09:47.692113, random -> 7\n",
      "date -> 2022-07-30 11:09:49.707434, random -> 1\n",
      "date -> 2022-07-30 11:09:51.715127, random -> 1\n",
      "date -> 2022-07-30 11:09:53.717202, random -> 6\n",
      "date -> 2022-07-30 11:09:55.730392, random -> 4\n"
     ]
    }
   ],
   "source": [
    "from datetime import datetime\n",
    "from random import randint\n",
    "from time import sleep\n",
    "\n",
    "for i in range(10):\n",
    "    print(\"date -> {}, random -> {}\".format(datetime.now(), randint(1,10)))\n",
    "    sleep(2)"
   ]
  },
  {
   "cell_type": "markdown",
   "metadata": {
    "id": "qdTwCero9ZYl"
   },
   "source": [
    "## OS"
   ]
  },
  {
   "cell_type": "code",
   "execution_count": 21,
   "metadata": {
    "colab": {
     "base_uri": "https://localhost:8080/",
     "height": 35
    },
    "executionInfo": {
     "elapsed": 322,
     "status": "ok",
     "timestamp": 1628162859170,
     "user": {
      "displayName": "FAQIH HAMAMI",
      "photoUrl": "",
      "userId": "12373015352648283402"
     },
     "user_tz": -420
    },
    "id": "Zgpbglzg8z7h",
    "outputId": "13e8ed5f-f4d1-4104-d620-2313cd2271ee"
   },
   "outputs": [
    {
     "data": {
      "text/plain": [
       "'D:\\\\_Telkom University\\\\Event\\\\2022\\\\FGA - Big Data using Python\\\\Code REF\\\\Python PCAP'"
      ]
     },
     "execution_count": 21,
     "metadata": {},
     "output_type": "execute_result"
    }
   ],
   "source": [
    "import os\n",
    "os.getcwd()"
   ]
  },
  {
   "cell_type": "code",
   "execution_count": 22,
   "metadata": {
    "colab": {
     "base_uri": "https://localhost:8080/"
    },
    "executionInfo": {
     "elapsed": 3,
     "status": "ok",
     "timestamp": 1628162859662,
     "user": {
      "displayName": "FAQIH HAMAMI",
      "photoUrl": "",
      "userId": "12373015352648283402"
     },
     "user_tz": -420
    },
    "id": "JhTqj5Q-8z42",
    "outputId": "dd7d9182-618b-4e60-dd59-f58a79ef3d39"
   },
   "outputs": [
    {
     "data": {
      "text/plain": [
       "['.ipynb_checkpoints',\n",
       " 'dictio.py',\n",
       " 'dictotojson.json',\n",
       " 'dts',\n",
       " 'filedua.txt',\n",
       " 'fileone.txt',\n",
       " 'halo',\n",
       " 'images',\n",
       " 'jsondua.json',\n",
       " 'jsonfile.json',\n",
       " 'Latihan Exam',\n",
       " 'Modul 1 - Pengenalan Python dan Bahasa Pemrograman.ipynb',\n",
       " 'Modul 2 - Tipe Data, Variabel, Dasar Input Output, Operasi.ipynb',\n",
       " 'Modul 3 - Conditional Loop dll.ipynb',\n",
       " 'Modul 4 - Function Tuple Dictionaries and Data Processing.ipynb',\n",
       " 'Modul 5 - Package.ipynb',\n",
       " 'Modul 6 - Object Oriented Approach, Exception Handling, Working with Files.ipynb',\n",
       " 'OOP',\n",
       " 'Package Python',\n",
       " 'Sesi 11 - Exceptions, Strings, and List Methods.ipynb',\n",
       " 'Sesi 15 - Miscellaneous.ipynb',\n",
       " 'Sesi 3 - Data Types, Variables, Basic Input-Output Operations, Basic Operators(1).html',\n",
       " 'Sesi 3 - Data Types, Variables, Basic Input-Output Operations, Basic Operators.ipynb',\n",
       " 'Sesi 5 - Conditional Execution, Loops, Lists .ipynb',\n",
       " 'Sesi 9 - Modules, Packages, PIP.ipynb',\n",
       " 'stopword.txt',\n",
       " 'tictacbasic.py',\n",
       " 'Untitled.ipynb']"
      ]
     },
     "execution_count": 22,
     "metadata": {},
     "output_type": "execute_result"
    }
   ],
   "source": [
    "os.listdir()"
   ]
  },
  {
   "cell_type": "code",
   "execution_count": 23,
   "metadata": {
    "colab": {
     "base_uri": "https://localhost:8080/"
    },
    "executionInfo": {
     "elapsed": 316,
     "status": "ok",
     "timestamp": 1628162882552,
     "user": {
      "displayName": "FAQIH HAMAMI",
      "photoUrl": "",
      "userId": "12373015352648283402"
     },
     "user_tz": -420
    },
    "id": "Uj4HSxeN8z19",
    "outputId": "fa5f84df-2e25-4d0e-e22c-69ee42da44ef"
   },
   "outputs": [
    {
     "ename": "FileExistsError",
     "evalue": "[WinError 183] Cannot create a file when that file already exists: 'halo'",
     "output_type": "error",
     "traceback": [
      "\u001b[1;31m---------------------------------------------------------------------------\u001b[0m",
      "\u001b[1;31mFileExistsError\u001b[0m                           Traceback (most recent call last)",
      "\u001b[1;32m<ipython-input-23-be246b6c21fc>\u001b[0m in \u001b[0;36m<module>\u001b[1;34m\u001b[0m\n\u001b[0;32m      1\u001b[0m \u001b[1;31m# os.rmdir(\"halo\")\u001b[0m\u001b[1;33m\u001b[0m\u001b[1;33m\u001b[0m\u001b[1;33m\u001b[0m\u001b[0m\n\u001b[1;32m----> 2\u001b[1;33m \u001b[0mos\u001b[0m\u001b[1;33m.\u001b[0m\u001b[0mmkdir\u001b[0m\u001b[1;33m(\u001b[0m\u001b[1;34m\"halo\"\u001b[0m\u001b[1;33m)\u001b[0m\u001b[1;33m\u001b[0m\u001b[1;33m\u001b[0m\u001b[0m\n\u001b[0m\u001b[0;32m      3\u001b[0m \u001b[0mos\u001b[0m\u001b[1;33m.\u001b[0m\u001b[0mlistdir\u001b[0m\u001b[1;33m(\u001b[0m\u001b[1;33m)\u001b[0m\u001b[1;33m\u001b[0m\u001b[1;33m\u001b[0m\u001b[0m\n",
      "\u001b[1;31mFileExistsError\u001b[0m: [WinError 183] Cannot create a file when that file already exists: 'halo'"
     ]
    }
   ],
   "source": [
    "# os.rmdir(\"halo\")\n",
    "os.mkdir(\"halo\")\n",
    "os.listdir()"
   ]
  },
  {
   "cell_type": "code",
   "execution_count": 24,
   "metadata": {
    "colab": {
     "base_uri": "https://localhost:8080/"
    },
    "executionInfo": {
     "elapsed": 315,
     "status": "ok",
     "timestamp": 1628162884489,
     "user": {
      "displayName": "FAQIH HAMAMI",
      "photoUrl": "",
      "userId": "12373015352648283402"
     },
     "user_tz": -420
    },
    "id": "5bBYiqZAC3v-",
    "outputId": "d71644eb-8d5a-4e1c-a838-9ca8e18f73d6"
   },
   "outputs": [
    {
     "data": {
      "text/plain": [
       "['subhi']"
      ]
     },
     "execution_count": 24,
     "metadata": {},
     "output_type": "execute_result"
    }
   ],
   "source": [
    "os.makedirs(\"hai/subhi\")\n",
    "os.listdir()\n",
    "os.listdir(\"hai\")"
   ]
  },
  {
   "cell_type": "code",
   "execution_count": 25,
   "metadata": {
    "id": "YlluXpmMDQbN"
   },
   "outputs": [],
   "source": [
    "# remove file/folder\n",
    "# os.remove() removes a file.\n",
    "# os.rmdir() removes an empty directory.\n",
    "# shutil.rmtree() deletes a directory and all its contents."
   ]
  },
  {
   "cell_type": "code",
   "execution_count": 26,
   "metadata": {
    "id": "TklA0ya4Dj81"
   },
   "outputs": [],
   "source": [
    "import shutil\n",
    "shutil.rmtree(\"hai\")"
   ]
  },
  {
   "cell_type": "code",
   "execution_count": 27,
   "metadata": {
    "colab": {
     "base_uri": "https://localhost:8080/"
    },
    "executionInfo": {
     "elapsed": 7,
     "status": "ok",
     "timestamp": 1628162889402,
     "user": {
      "displayName": "FAQIH HAMAMI",
      "photoUrl": "",
      "userId": "12373015352648283402"
     },
     "user_tz": -420
    },
    "id": "GcaiaJP7ELyi",
    "outputId": "95e434b9-cb72-4505-a13f-8e2e1330fed7"
   },
   "outputs": [
    {
     "data": {
      "text/plain": [
       "['.ipynb_checkpoints',\n",
       " 'dictio.py',\n",
       " 'dictotojson.json',\n",
       " 'dts',\n",
       " 'filedua.txt',\n",
       " 'fileone.txt',\n",
       " 'halo',\n",
       " 'images',\n",
       " 'jsondua.json',\n",
       " 'jsonfile.json',\n",
       " 'Latihan Exam',\n",
       " 'Modul 1 - Pengenalan Python dan Bahasa Pemrograman.ipynb',\n",
       " 'Modul 2 - Tipe Data, Variabel, Dasar Input Output, Operasi.ipynb',\n",
       " 'Modul 3 - Conditional Loop dll.ipynb',\n",
       " 'Modul 4 - Function Tuple Dictionaries and Data Processing.ipynb',\n",
       " 'Modul 5 - Package.ipynb',\n",
       " 'Modul 6 - Object Oriented Approach, Exception Handling, Working with Files.ipynb',\n",
       " 'OOP',\n",
       " 'Package Python',\n",
       " 'Sesi 11 - Exceptions, Strings, and List Methods.ipynb',\n",
       " 'Sesi 15 - Miscellaneous.ipynb',\n",
       " 'Sesi 3 - Data Types, Variables, Basic Input-Output Operations, Basic Operators(1).html',\n",
       " 'Sesi 3 - Data Types, Variables, Basic Input-Output Operations, Basic Operators.ipynb',\n",
       " 'Sesi 5 - Conditional Execution, Loops, Lists .ipynb',\n",
       " 'Sesi 9 - Modules, Packages, PIP.ipynb',\n",
       " 'stopword.txt',\n",
       " 'tictacbasic.py',\n",
       " 'Untitled.ipynb']"
      ]
     },
     "execution_count": 27,
     "metadata": {},
     "output_type": "execute_result"
    }
   ],
   "source": [
    "os.listdir()"
   ]
  },
  {
   "cell_type": "markdown",
   "metadata": {},
   "source": [
    "### Lab\n",
    "- Buat folder dan tambahkan file yang berisi string\n",
    "- di direktori berbeda buka file tersebut \n",
    "- bisa langsung baca atau pindah path dulu di notebooknya"
   ]
  },
  {
   "cell_type": "code",
   "execution_count": null,
   "metadata": {
    "id": "3LbYBQq4FzP8"
   },
   "outputs": [],
   "source": []
  },
  {
   "cell_type": "markdown",
   "metadata": {},
   "source": [
    "## File"
   ]
  },
  {
   "cell_type": "code",
   "execution_count": 28,
   "metadata": {},
   "outputs": [],
   "source": [
    "# write file\n",
    "with open(\"fileone.txt\", \"w\") as file:\n",
    "    file.write(\"ini adalah contoh file satu \\nIni adalah baris kedua\")"
   ]
  },
  {
   "cell_type": "code",
   "execution_count": 29,
   "metadata": {},
   "outputs": [
    {
     "name": "stdout",
     "output_type": "stream",
     "text": [
      "ini adalah contoh file satu \n",
      "Ini adalah baris kedua\n"
     ]
    }
   ],
   "source": [
    "# read file\n",
    "with open(\"fileone.txt\", \"r\") as file:\n",
    "    print(file.read())"
   ]
  },
  {
   "cell_type": "code",
   "execution_count": 30,
   "metadata": {},
   "outputs": [],
   "source": [
    "# append\n",
    "with open(\"fileone.txt\", \"a\") as file:\n",
    "    file.write(\"\\nIni adalah baris ketiga\")"
   ]
  },
  {
   "cell_type": "code",
   "execution_count": 31,
   "metadata": {},
   "outputs": [
    {
     "name": "stdout",
     "output_type": "stream",
     "text": [
      "ini adalah contoh file satu \n",
      "Ini adalah baris kedua\n",
      "Ini adalah baris ketiga\n"
     ]
    }
   ],
   "source": [
    "# read file\n",
    "with open(\"fileone.txt\", \"r\") as file:\n",
    "    print(file.read())"
   ]
  },
  {
   "cell_type": "markdown",
   "metadata": {},
   "source": [
    "### Lab\n",
    "\n",
    "- buat file filedua.txt dengan python berupa string `\"saya ke dengan\"` kata-kata ini disebut `stopword`\n",
    "- buat program untuk menghapus stopword di kalimat untuk mendapatkan kata yang penting\n",
    "- gunakan `try .. except ..` jika nama file tidak ditemukan\n",
    "- kalimat yang digunakan adalah `saya pergi ke ciwalk dengan toni`\n",
    "- di akhir program tampilkan kata yang penting dan hitung jumlah kata total"
   ]
  },
  {
   "cell_type": "code",
   "execution_count": 32,
   "metadata": {},
   "outputs": [
    {
     "name": "stdout",
     "output_type": "stream",
     "text": [
      "kata yang penting adalah ['pergi', 'ciwalk', 'toni'] dan jumlahnya 3\n"
     ]
    }
   ],
   "source": [
    "# define list and sentences\n",
    "newlist = []\n",
    "kalimat = \"saya pergi ke ciwalk dengan toni\"\n",
    "\n",
    "# create file\n",
    "with open(\"filedua.txt\", \"w\") as file:\n",
    "    file.write(\"saya ke dengan\")\n",
    "    \n",
    "try:\n",
    "    # read file\n",
    "    with open(\"filedua.txt\", \"r\") as file:\n",
    "        word = file.read().split(\" \")\n",
    "    \n",
    "    for i in kalimat.split(\" \"):\n",
    "        if i.lower() in word:\n",
    "            continue\n",
    "        newlist.append(i)\n",
    "except:\n",
    "    print(\"file tidak ditemukan\")\n",
    "    \n",
    "print(\"kata yang penting adalah {} dan jumlahnya {}\".format(newlist, len(newlist)))"
   ]
  },
  {
   "cell_type": "markdown",
   "metadata": {},
   "source": [
    "## Lab\n",
    "\n",
    "- buat folder `dts/python`\n",
    "- create file `myfile.txt`\n",
    "- add text : `Hello world`\n",
    "- read text\n",
    "- kembali folder dts dan cetak isi dari folder dts "
   ]
  },
  {
   "cell_type": "code",
   "execution_count": 34,
   "metadata": {},
   "outputs": [],
   "source": [
    "shutil.rmtree(\"dts/python\")"
   ]
  },
  {
   "cell_type": "code",
   "execution_count": 35,
   "metadata": {},
   "outputs": [
    {
     "name": "stdout",
     "output_type": "stream",
     "text": [
      "hello word\n",
      "['python']\n"
     ]
    }
   ],
   "source": [
    "import os\n",
    "os.makedirs(\"dts/python\")\n",
    "os.chdir(\"dts/python\")\n",
    "with open(\"myfile.txt\", \"w\") as file:\n",
    "  file.write(\"hello word\")\n",
    "\n",
    "with open(\"myfile.txt\", \"r\") as file:\n",
    "  print(file.read())\n",
    "\n",
    "os.chdir(\"../\")\n",
    "print(os.listdir())"
   ]
  },
  {
   "cell_type": "markdown",
   "metadata": {},
   "source": [
    "## Json\n",
    "\n",
    "- contoh format json `{\"nama\":\"toni\", \"kampus\":\"Telkom University\", \"fakultas\":\"FRI\"}`\n",
    "- digunakan untuk membaca text/file berformat json"
   ]
  },
  {
   "cell_type": "code",
   "execution_count": 36,
   "metadata": {},
   "outputs": [],
   "source": [
    "# create json.file\n",
    "with open(\"jsonfile.json\", \"w\") as file:\n",
    "    file.write('{\"nama\":\"toni\", \"kampus\":\"Telkom University\", \"fakultas\":\"FRI\"}')"
   ]
  },
  {
   "cell_type": "code",
   "execution_count": 37,
   "metadata": {},
   "outputs": [],
   "source": [
    "import json\n",
    "\n",
    "with open(\"jsonfile.json\", \"r\") as file:\n",
    "    mahasiswa = json.load(file)"
   ]
  },
  {
   "cell_type": "code",
   "execution_count": 38,
   "metadata": {},
   "outputs": [
    {
     "data": {
      "text/plain": [
       "{'nama': 'toni', 'kampus': 'Telkom University', 'fakultas': 'FRI'}"
      ]
     },
     "execution_count": 38,
     "metadata": {},
     "output_type": "execute_result"
    }
   ],
   "source": [
    "mahasiswa"
   ]
  },
  {
   "cell_type": "code",
   "execution_count": 39,
   "metadata": {},
   "outputs": [
    {
     "data": {
      "text/plain": [
       "dict"
      ]
     },
     "execution_count": 39,
     "metadata": {},
     "output_type": "execute_result"
    }
   ],
   "source": [
    "type(mahasiswa)"
   ]
  },
  {
   "cell_type": "code",
   "execution_count": 40,
   "metadata": {},
   "outputs": [
    {
     "data": {
      "text/plain": [
       "'toni'"
      ]
     },
     "execution_count": 40,
     "metadata": {},
     "output_type": "execute_result"
    }
   ],
   "source": [
    "mahasiswa['nama']"
   ]
  },
  {
   "cell_type": "code",
   "execution_count": 41,
   "metadata": {},
   "outputs": [
    {
     "data": {
      "text/plain": [
       "'FRI'"
      ]
     },
     "execution_count": 41,
     "metadata": {},
     "output_type": "execute_result"
    }
   ],
   "source": [
    "mahasiswa['fakultas']"
   ]
  },
  {
   "cell_type": "markdown",
   "metadata": {},
   "source": [
    "## Lab\n",
    "\n",
    "slice data dari json berikut\n",
    "\n",
    "`{'firstName': 'Jane',\n",
    " 'lastName': 'Doe',\n",
    " 'hobbies': ['running', 'sky diving', 'singing'],\n",
    " 'age': 35,\n",
    " 'children': [{'firstName': 'Alice', 'age': 6},\n",
    "  {'firstName': 'Bob', 'age': 8}]}`\n",
    "  \n",
    "  - get `Doe`\n",
    "  - get `singing`\n",
    "  - get `children`\n",
    "  - get `Alice`\n",
    "  - get `Bob`"
   ]
  },
  {
   "cell_type": "code",
   "execution_count": null,
   "metadata": {},
   "outputs": [],
   "source": []
  },
  {
   "cell_type": "markdown",
   "metadata": {},
   "source": [
    "## Lab \n",
    "\n",
    "- Buat file json dengan key `nama, nilaitugas, nilaiuts, nilaiuas`\n",
    "- baca dengan python dan lakukan operasi perhitungan untuk nilai akhir adalah tugas 30%, uts 30%, uas 40%\n",
    "- tampilkan hasilnya"
   ]
  },
  {
   "cell_type": "code",
   "execution_count": null,
   "metadata": {},
   "outputs": [],
   "source": []
  },
  {
   "cell_type": "markdown",
   "metadata": {},
   "source": [
    "## Json from Link\n",
    "\n",
    "- Baca profile github. Misal `https://api.github.com/users/faqihhamami`\n",
    "- tampilkan `username (login), url, company, public_repos`"
   ]
  },
  {
   "cell_type": "code",
   "execution_count": 42,
   "metadata": {},
   "outputs": [],
   "source": [
    "from urllib.request import urlopen\n",
    "\n",
    "url = \"https://api.github.com/users/faqihhamami\"\n",
    "response = urlopen(url)\n",
    "\n",
    "github = json.load(response)"
   ]
  },
  {
   "cell_type": "code",
   "execution_count": 43,
   "metadata": {},
   "outputs": [
    {
     "data": {
      "text/plain": [
       "{'login': 'faqihhamami',\n",
       " 'id': 42054609,\n",
       " 'node_id': 'MDQ6VXNlcjQyMDU0NjA5',\n",
       " 'avatar_url': 'https://avatars.githubusercontent.com/u/42054609?v=4',\n",
       " 'gravatar_id': '',\n",
       " 'url': 'https://api.github.com/users/faqihhamami',\n",
       " 'html_url': 'https://github.com/faqihhamami',\n",
       " 'followers_url': 'https://api.github.com/users/faqihhamami/followers',\n",
       " 'following_url': 'https://api.github.com/users/faqihhamami/following{/other_user}',\n",
       " 'gists_url': 'https://api.github.com/users/faqihhamami/gists{/gist_id}',\n",
       " 'starred_url': 'https://api.github.com/users/faqihhamami/starred{/owner}{/repo}',\n",
       " 'subscriptions_url': 'https://api.github.com/users/faqihhamami/subscriptions',\n",
       " 'organizations_url': 'https://api.github.com/users/faqihhamami/orgs',\n",
       " 'repos_url': 'https://api.github.com/users/faqihhamami/repos',\n",
       " 'events_url': 'https://api.github.com/users/faqihhamami/events{/privacy}',\n",
       " 'received_events_url': 'https://api.github.com/users/faqihhamami/received_events',\n",
       " 'type': 'User',\n",
       " 'site_admin': False,\n",
       " 'name': None,\n",
       " 'company': 'ISSP-ITB',\n",
       " 'blog': 'sccic.id',\n",
       " 'location': 'Jalan Ganesha Bandung',\n",
       " 'email': None,\n",
       " 'hireable': None,\n",
       " 'bio': None,\n",
       " 'twitter_username': None,\n",
       " 'public_repos': 27,\n",
       " 'public_gists': 0,\n",
       " 'followers': 1,\n",
       " 'following': 0,\n",
       " 'created_at': '2018-08-03T04:12:46Z',\n",
       " 'updated_at': '2022-03-17T00:34:49Z'}"
      ]
     },
     "execution_count": 43,
     "metadata": {},
     "output_type": "execute_result"
    }
   ],
   "source": [
    "github"
   ]
  },
  {
   "cell_type": "code",
   "execution_count": 44,
   "metadata": {},
   "outputs": [
    {
     "name": "stdout",
     "output_type": "stream",
     "text": [
      "faqihhamami\n",
      "https://api.github.com/users/faqihhamami\n",
      "ISSP-ITB\n",
      "27\n"
     ]
    }
   ],
   "source": [
    "print(github['login'])\n",
    "print(github['url'])\n",
    "print(github['company'])\n",
    "print(github['public_repos'])"
   ]
  },
  {
   "cell_type": "markdown",
   "metadata": {},
   "source": [
    "## Lab\n",
    "\n",
    "- Ambil data dari API todos app\n",
    "- `https://jsonplaceholder.typicode.com/todos/3`"
   ]
  },
  {
   "cell_type": "code",
   "execution_count": 45,
   "metadata": {},
   "outputs": [
    {
     "name": "stdout",
     "output_type": "stream",
     "text": [
      "{'userId': 1, 'id': 3, 'title': 'fugiat veniam minus', 'completed': False}\n"
     ]
    }
   ],
   "source": [
    "url = \"https://jsonplaceholder.typicode.com/todos/3\"\n",
    "response = urlopen(url)\n",
    "\n",
    "todo = json.load(response)\n",
    "print(todo)"
   ]
  },
  {
   "cell_type": "markdown",
   "metadata": {},
   "source": [
    "## Lab\n",
    "\n",
    "- Ambil 10 title dari dari todos app dan simpan di list\n",
    "- `https://jsonplaceholder.typicode.com/todos/1` sd `https://jsonplaceholder.typicode.com/todos/10`"
   ]
  },
  {
   "cell_type": "code",
   "execution_count": 46,
   "metadata": {},
   "outputs": [
    {
     "name": "stdout",
     "output_type": "stream",
     "text": [
      "['delectus aut autem', 'quis ut nam facilis et officia qui', 'fugiat veniam minus', 'et porro tempora', 'laboriosam mollitia et enim quasi adipisci quia provident illum', 'qui ullam ratione quibusdam voluptatem quia omnis', 'illo expedita consequatur quia in', 'quo adipisci enim quam ut ab', 'molestiae perspiciatis ipsa', 'illo est ratione doloremque quia maiores aut']\n"
     ]
    }
   ],
   "source": [
    "titles = []\n",
    "\n",
    "for i in range(1,11):\n",
    "    url = \"https://jsonplaceholder.typicode.com/todos/{}\".format(i)\n",
    "    response = urlopen(url)\n",
    "\n",
    "    todo = json.load(response)\n",
    "    titles.append(todo['title'])\n",
    "    \n",
    "print(titles)"
   ]
  },
  {
   "cell_type": "code",
   "execution_count": null,
   "metadata": {},
   "outputs": [],
   "source": []
  },
  {
   "cell_type": "markdown",
   "metadata": {},
   "source": [
    "### Json to Dict"
   ]
  },
  {
   "cell_type": "code",
   "execution_count": 47,
   "metadata": {},
   "outputs": [
    {
     "data": {
      "text/plain": [
       "dict"
      ]
     },
     "execution_count": 47,
     "metadata": {},
     "output_type": "execute_result"
    }
   ],
   "source": [
    "# save to json from dict\n",
    "\n",
    "newdata = {'firstName': 'Jane',\n",
    " 'lastName': 'Doe',\n",
    " 'hobbies': ['running', 'sky diving', 'singing'],\n",
    " 'age': 35,\n",
    " 'children': [{'firstName': 'Alice', 'age': 6},\n",
    "  {'firstName': 'Bob', 'age': 8}]}\n",
    "\n",
    "type(newdata)"
   ]
  },
  {
   "cell_type": "code",
   "execution_count": 48,
   "metadata": {},
   "outputs": [],
   "source": [
    "# dump\n",
    "with open(\"dictotojson.json\", \"w\") as file:\n",
    "    json.dump(newdata, file)"
   ]
  },
  {
   "cell_type": "code",
   "execution_count": 49,
   "metadata": {},
   "outputs": [],
   "source": [
    "# load\n",
    "with open(\"dictotojson.json\", \"r\") as file:\n",
    "    newdata = json.load(file)"
   ]
  },
  {
   "cell_type": "code",
   "execution_count": 50,
   "metadata": {},
   "outputs": [
    {
     "data": {
      "text/plain": [
       "{'firstName': 'Jane',\n",
       " 'lastName': 'Doe',\n",
       " 'hobbies': ['running', 'sky diving', 'singing'],\n",
       " 'age': 35,\n",
       " 'children': [{'firstName': 'Alice', 'age': 6},\n",
       "  {'firstName': 'Bob', 'age': 8}]}"
      ]
     },
     "execution_count": 50,
     "metadata": {},
     "output_type": "execute_result"
    }
   ],
   "source": [
    "newdata"
   ]
  },
  {
   "cell_type": "code",
   "execution_count": null,
   "metadata": {},
   "outputs": [],
   "source": []
  }
 ],
 "metadata": {
  "colab": {
   "authorship_tag": "ABX9TyNHC9NrJfC2bVkf8sB9py1F",
   "collapsed_sections": [],
   "name": "Miscellaneous.ipynb",
   "provenance": []
  },
  "kernelspec": {
   "display_name": "Python 3",
   "language": "python",
   "name": "python3"
  },
  "language_info": {
   "codemirror_mode": {
    "name": "ipython",
    "version": 3
   },
   "file_extension": ".py",
   "mimetype": "text/x-python",
   "name": "python",
   "nbconvert_exporter": "python",
   "pygments_lexer": "ipython3",
   "version": "3.8.3"
  }
 },
 "nbformat": 4,
 "nbformat_minor": 1
}
